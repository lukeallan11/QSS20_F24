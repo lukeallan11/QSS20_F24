{
 "cells": [
  {
   "cell_type": "markdown",
   "metadata": {},
   "source": [
    "## 0. Load imports "
   ]
  },
  {
   "cell_type": "code",
   "execution_count": 141,
   "metadata": {},
   "outputs": [],
   "source": [
    "## imports\n",
    "import pandas as pd\n",
    "import numpy as np\n",
    "\n",
    "\n",
    "## print multiple things from same cell\n",
    "from IPython.core.interactiveshell import InteractiveShell\n",
    "InteractiveShell.ast_node_interactivity = \"all\""
   ]
  },
  {
   "cell_type": "markdown",
   "metadata": {},
   "source": [
    "## 0. Load data"
   ]
  },
  {
   "cell_type": "code",
   "execution_count": 143,
   "metadata": {},
   "outputs": [
    {
     "data": {
      "text/html": [
       "<div>\n",
       "<style scoped>\n",
       "    .dataframe tbody tr th:only-of-type {\n",
       "        vertical-align: middle;\n",
       "    }\n",
       "\n",
       "    .dataframe tbody tr th {\n",
       "        vertical-align: top;\n",
       "    }\n",
       "\n",
       "    .dataframe thead th {\n",
       "        text-align: right;\n",
       "    }\n",
       "</style>\n",
       "<table border=\"1\" class=\"dataframe\">\n",
       "  <thead>\n",
       "    <tr style=\"text-align: right;\">\n",
       "      <th></th>\n",
       "      <th>X</th>\n",
       "      <th>Y</th>\n",
       "      <th>CCN</th>\n",
       "      <th>REPORT_DAT</th>\n",
       "      <th>SHIFT</th>\n",
       "      <th>METHOD</th>\n",
       "      <th>OFFENSE</th>\n",
       "      <th>BLOCK</th>\n",
       "      <th>XBLOCK</th>\n",
       "      <th>YBLOCK</th>\n",
       "      <th>...</th>\n",
       "      <th>BLOCK_GROUP</th>\n",
       "      <th>CENSUS_TRACT</th>\n",
       "      <th>VOTING_PRECINCT</th>\n",
       "      <th>LATITUDE</th>\n",
       "      <th>LONGITUDE</th>\n",
       "      <th>BID</th>\n",
       "      <th>START_DATE</th>\n",
       "      <th>END_DATE</th>\n",
       "      <th>OBJECTID</th>\n",
       "      <th>OCTO_RECORD_ID</th>\n",
       "    </tr>\n",
       "  </thead>\n",
       "  <tbody>\n",
       "    <tr>\n",
       "      <th>0</th>\n",
       "      <td>-77.044182</td>\n",
       "      <td>38.905654</td>\n",
       "      <td>11139598</td>\n",
       "      <td>2020/08/24 04:00:00+00</td>\n",
       "      <td>MIDNIGHT</td>\n",
       "      <td>OTHERS</td>\n",
       "      <td>HOMICIDE</td>\n",
       "      <td>1900 - 1999 BLOCK OF M STREET NW</td>\n",
       "      <td>396168.0</td>\n",
       "      <td>137533.0</td>\n",
       "      <td>...</td>\n",
       "      <td>010700 1</td>\n",
       "      <td>10700.0</td>\n",
       "      <td>Precinct 17</td>\n",
       "      <td>38.905646</td>\n",
       "      <td>-77.044180</td>\n",
       "      <td>GOLDEN TRIANGLE</td>\n",
       "      <td>2011/09/23 06:40:00+00</td>\n",
       "      <td>NaN</td>\n",
       "      <td>594430168</td>\n",
       "      <td>NaN</td>\n",
       "    </tr>\n",
       "    <tr>\n",
       "      <th>1</th>\n",
       "      <td>-77.023981</td>\n",
       "      <td>38.900345</td>\n",
       "      <td>5370</td>\n",
       "      <td>2020/01/17 02:39:05+00</td>\n",
       "      <td>EVENING</td>\n",
       "      <td>OTHERS</td>\n",
       "      <td>THEFT F/AUTO</td>\n",
       "      <td>800 - 899 BLOCK OF 9TH STREET NW</td>\n",
       "      <td>397920.0</td>\n",
       "      <td>136943.0</td>\n",
       "      <td>...</td>\n",
       "      <td>005802 5</td>\n",
       "      <td>5802.0</td>\n",
       "      <td>Precinct 129</td>\n",
       "      <td>38.900337</td>\n",
       "      <td>-77.023979</td>\n",
       "      <td>DOWNTOWN</td>\n",
       "      <td>2020/01/11 02:48:51+00</td>\n",
       "      <td>2020/01/17 02:48:54+00</td>\n",
       "      <td>594430173</td>\n",
       "      <td>NaN</td>\n",
       "    </tr>\n",
       "    <tr>\n",
       "      <th>2</th>\n",
       "      <td>-76.972651</td>\n",
       "      <td>38.857491</td>\n",
       "      <td>10251445</td>\n",
       "      <td>2020/09/11 04:00:00+00</td>\n",
       "      <td>MIDNIGHT</td>\n",
       "      <td>GUN</td>\n",
       "      <td>HOMICIDE</td>\n",
       "      <td>2300 - 2399 BLOCK OF AINGER PLACE SE</td>\n",
       "      <td>402374.0</td>\n",
       "      <td>132186.0</td>\n",
       "      <td>...</td>\n",
       "      <td>007502 1</td>\n",
       "      <td>7502.0</td>\n",
       "      <td>Precinct 134</td>\n",
       "      <td>38.857483</td>\n",
       "      <td>-76.972648</td>\n",
       "      <td>NaN</td>\n",
       "      <td>2010/09/02 04:00:00+00</td>\n",
       "      <td>2010/09/02 04:00:00+00</td>\n",
       "      <td>594430178</td>\n",
       "      <td>NaN</td>\n",
       "    </tr>\n",
       "    <tr>\n",
       "      <th>3</th>\n",
       "      <td>-76.972226</td>\n",
       "      <td>38.854086</td>\n",
       "      <td>10147537</td>\n",
       "      <td>2020/12/21 05:00:00+00</td>\n",
       "      <td>MIDNIGHT</td>\n",
       "      <td>OTHERS</td>\n",
       "      <td>HOMICIDE</td>\n",
       "      <td>2300 - 2499 BLOCK OF HARTFORD STREET SE</td>\n",
       "      <td>402411.0</td>\n",
       "      <td>131808.0</td>\n",
       "      <td>...</td>\n",
       "      <td>007408 2</td>\n",
       "      <td>7408.0</td>\n",
       "      <td>Precinct 115</td>\n",
       "      <td>38.854078</td>\n",
       "      <td>-76.972223</td>\n",
       "      <td>NaN</td>\n",
       "      <td>2010/10/10 02:00:00+00</td>\n",
       "      <td>NaN</td>\n",
       "      <td>594431372</td>\n",
       "      <td>NaN</td>\n",
       "    </tr>\n",
       "    <tr>\n",
       "      <th>4</th>\n",
       "      <td>-77.001753</td>\n",
       "      <td>38.821632</td>\n",
       "      <td>18048023</td>\n",
       "      <td>2020/10/21 04:00:00+00</td>\n",
       "      <td>MIDNIGHT</td>\n",
       "      <td>OTHERS</td>\n",
       "      <td>HOMICIDE</td>\n",
       "      <td>4600 - 4799 BLOCK OF SOUTH CAPITOL STREET</td>\n",
       "      <td>399848.0</td>\n",
       "      <td>128205.0</td>\n",
       "      <td>...</td>\n",
       "      <td>009811 1</td>\n",
       "      <td>9811.0</td>\n",
       "      <td>Precinct 125</td>\n",
       "      <td>38.821624</td>\n",
       "      <td>-77.001750</td>\n",
       "      <td>NaN</td>\n",
       "      <td>2018/03/26 08:40:06+00</td>\n",
       "      <td>2018/03/26 10:04:44+00</td>\n",
       "      <td>594431711</td>\n",
       "      <td>NaN</td>\n",
       "    </tr>\n",
       "  </tbody>\n",
       "</table>\n",
       "<p>5 rows × 25 columns</p>\n",
       "</div>"
      ],
      "text/plain": [
       "           X          Y       CCN              REPORT_DAT     SHIFT  METHOD  \\\n",
       "0 -77.044182  38.905654  11139598  2020/08/24 04:00:00+00  MIDNIGHT  OTHERS   \n",
       "1 -77.023981  38.900345      5370  2020/01/17 02:39:05+00   EVENING  OTHERS   \n",
       "2 -76.972651  38.857491  10251445  2020/09/11 04:00:00+00  MIDNIGHT     GUN   \n",
       "3 -76.972226  38.854086  10147537  2020/12/21 05:00:00+00  MIDNIGHT  OTHERS   \n",
       "4 -77.001753  38.821632  18048023  2020/10/21 04:00:00+00  MIDNIGHT  OTHERS   \n",
       "\n",
       "        OFFENSE                                      BLOCK    XBLOCK  \\\n",
       "0      HOMICIDE           1900 - 1999 BLOCK OF M STREET NW  396168.0   \n",
       "1  THEFT F/AUTO           800 - 899 BLOCK OF 9TH STREET NW  397920.0   \n",
       "2      HOMICIDE       2300 - 2399 BLOCK OF AINGER PLACE SE  402374.0   \n",
       "3      HOMICIDE    2300 - 2499 BLOCK OF HARTFORD STREET SE  402411.0   \n",
       "4      HOMICIDE  4600 - 4799 BLOCK OF SOUTH CAPITOL STREET  399848.0   \n",
       "\n",
       "     YBLOCK  ...  BLOCK_GROUP CENSUS_TRACT  VOTING_PRECINCT   LATITUDE  \\\n",
       "0  137533.0  ...     010700 1      10700.0      Precinct 17  38.905646   \n",
       "1  136943.0  ...     005802 5       5802.0     Precinct 129  38.900337   \n",
       "2  132186.0  ...     007502 1       7502.0     Precinct 134  38.857483   \n",
       "3  131808.0  ...     007408 2       7408.0     Precinct 115  38.854078   \n",
       "4  128205.0  ...     009811 1       9811.0     Precinct 125  38.821624   \n",
       "\n",
       "   LONGITUDE              BID              START_DATE                END_DATE  \\\n",
       "0 -77.044180  GOLDEN TRIANGLE  2011/09/23 06:40:00+00                     NaN   \n",
       "1 -77.023979         DOWNTOWN  2020/01/11 02:48:51+00  2020/01/17 02:48:54+00   \n",
       "2 -76.972648              NaN  2010/09/02 04:00:00+00  2010/09/02 04:00:00+00   \n",
       "3 -76.972223              NaN  2010/10/10 02:00:00+00                     NaN   \n",
       "4 -77.001750              NaN  2018/03/26 08:40:06+00  2018/03/26 10:04:44+00   \n",
       "\n",
       "    OBJECTID  OCTO_RECORD_ID  \n",
       "0  594430168             NaN  \n",
       "1  594430173             NaN  \n",
       "2  594430178             NaN  \n",
       "3  594431372             NaN  \n",
       "4  594431711             NaN  \n",
       "\n",
       "[5 rows x 25 columns]"
      ]
     },
     "execution_count": 143,
     "metadata": {},
     "output_type": "execute_result"
    },
    {
     "data": {
      "text/plain": [
       "(27931, 25)"
      ]
     },
     "execution_count": 143,
     "metadata": {},
     "output_type": "execute_result"
    },
    {
     "name": "stdout",
     "output_type": "stream",
     "text": [
      "<class 'pandas.core.frame.DataFrame'>\n",
      "RangeIndex: 27931 entries, 0 to 27930\n",
      "Data columns (total 25 columns):\n",
      " #   Column                Non-Null Count  Dtype  \n",
      "---  ------                --------------  -----  \n",
      " 0   X                     27931 non-null  float64\n",
      " 1   Y                     27931 non-null  float64\n",
      " 2   CCN                   27931 non-null  int64  \n",
      " 3   REPORT_DAT            27931 non-null  object \n",
      " 4   SHIFT                 27931 non-null  object \n",
      " 5   METHOD                27931 non-null  object \n",
      " 6   OFFENSE               27931 non-null  object \n",
      " 7   BLOCK                 27931 non-null  object \n",
      " 8   XBLOCK                27931 non-null  float64\n",
      " 9   YBLOCK                27931 non-null  float64\n",
      " 10  WARD                  27931 non-null  int64  \n",
      " 11  ANC                   27931 non-null  object \n",
      " 12  DISTRICT              27902 non-null  float64\n",
      " 13  PSA                   27896 non-null  float64\n",
      " 14  NEIGHBORHOOD_CLUSTER  27931 non-null  object \n",
      " 15  BLOCK_GROUP           27930 non-null  object \n",
      " 16  CENSUS_TRACT          27930 non-null  float64\n",
      " 17  VOTING_PRECINCT       27931 non-null  object \n",
      " 18  LATITUDE              27931 non-null  float64\n",
      " 19  LONGITUDE             27931 non-null  float64\n",
      " 20  BID                   4658 non-null   object \n",
      " 21  START_DATE            27931 non-null  object \n",
      " 22  END_DATE              24850 non-null  object \n",
      " 23  OBJECTID              27931 non-null  int64  \n",
      " 24  OCTO_RECORD_ID        0 non-null      float64\n",
      "dtypes: float64(10), int64(3), object(12)\n",
      "memory usage: 5.3+ MB\n"
     ]
    }
   ],
   "source": [
    "## load data on 2020 crimes in DC\n",
    "df = dc_crim_2020 = pd.read_csv(\"https://opendata.arcgis.com/datasets/f516e0dd7b614b088ad781b0c4002331_2.csv\")\n",
    "dc_crim_2020.head()\n",
    "dc_crim_2020.shape\n",
    "dc_crim_2020.info()\n"
   ]
  },
  {
   "cell_type": "markdown",
   "metadata": {},
   "source": [
    "#### Warm-up: Ways to add 100 to column X"
   ]
  },
  {
   "cell_type": "code",
   "execution_count": 145,
   "metadata": {},
   "outputs": [
    {
     "name": "stdout",
     "output_type": "stream",
     "text": [
      "CPU times: user 769 μs, sys: 336 μs, total: 1.1 ms\n",
      "Wall time: 1.07 ms\n"
     ]
    },
    {
     "data": {
      "text/plain": [
       "0        22.955818\n",
       "1        22.976019\n",
       "2        23.027349\n",
       "3        23.027774\n",
       "4        22.998247\n",
       "           ...    \n",
       "27926    22.951183\n",
       "27927    22.996471\n",
       "27928    22.973471\n",
       "27929    23.006236\n",
       "27930    22.952276\n",
       "Name: X, Length: 27931, dtype: float64"
      ]
     },
     "execution_count": 145,
     "metadata": {},
     "output_type": "execute_result"
    }
   ],
   "source": [
    "%%time\n",
    "df.X + 100"
   ]
  },
  {
   "cell_type": "markdown",
   "metadata": {},
   "source": [
    "## 1. Aggregation"
   ]
  },
  {
   "cell_type": "markdown",
   "metadata": {},
   "source": [
    "### Example of grouping by one variable and doing one aggregation \n",
    "\n",
    "**Task**: find and print the number of unique offense types (`OFFENSE`) by ward (`WARD`)"
   ]
  },
  {
   "cell_type": "code",
   "execution_count": 147,
   "metadata": {},
   "outputs": [
    {
     "data": {
      "text/plain": [
       "WARD\n",
       "1    9\n",
       "2    9\n",
       "3    8\n",
       "4    8\n",
       "5    9\n",
       "6    9\n",
       "7    9\n",
       "8    9\n",
       "Name: OFFENSE, dtype: int64"
      ]
     },
     "execution_count": 147,
     "metadata": {},
     "output_type": "execute_result"
    }
   ],
   "source": [
    "df.groupby(\"WARD\")[\"OFFENSE\"].nunique()"
   ]
  },
  {
   "cell_type": "markdown",
   "metadata": {},
   "source": [
    "### Example of grouping by one variable and providing two summaries of the same variable\n",
    "\n",
    "**Task**: previous showed number of offenses by ward but want to find out content of offenses in each ward; create an aggregation that summarizes both the number of unique offenses by ward and what those offenses are -- for instance, by pasting the unique offenses in that ward separated by the \";\" (e.g., Theft; Burglary;...)\n",
    "\n",
    "*Hint*: you can use the join command to paste together a list separated by some delimiter. \n",
    "    - The syntax, if we are using the comma delimiter, is: \", \".join(nameoflist)"
   ]
  },
  {
   "cell_type": "code",
   "execution_count": 150,
   "metadata": {},
   "outputs": [
    {
     "data": {
      "text/plain": [
       "WARD\n",
       "1    9\n",
       "2    9\n",
       "3    8\n",
       "4    8\n",
       "5    9\n",
       "6    9\n",
       "7    9\n",
       "8    9\n",
       "Name: OFFENSE, dtype: int64"
      ]
     },
     "execution_count": 150,
     "metadata": {},
     "output_type": "execute_result"
    },
    {
     "data": {
      "text/html": [
       "<div>\n",
       "<style scoped>\n",
       "    .dataframe tbody tr th:only-of-type {\n",
       "        vertical-align: middle;\n",
       "    }\n",
       "\n",
       "    .dataframe tbody tr th {\n",
       "        vertical-align: top;\n",
       "    }\n",
       "\n",
       "    .dataframe thead th {\n",
       "        text-align: right;\n",
       "    }\n",
       "</style>\n",
       "<table border=\"1\" class=\"dataframe\">\n",
       "  <thead>\n",
       "    <tr style=\"text-align: right;\">\n",
       "      <th></th>\n",
       "      <th>WARD</th>\n",
       "      <th>OFFENSE</th>\n",
       "      <th>uniq_off_by_ward</th>\n",
       "    </tr>\n",
       "  </thead>\n",
       "  <tbody>\n",
       "    <tr>\n",
       "      <th>0</th>\n",
       "      <td>1</td>\n",
       "      <td>[THEFT/OTHER, ASSAULT W/DANGEROUS WEAPON, ROBB...</td>\n",
       "      <td>THEFT/OTHER; ASSAULT W/DANGEROUS WEAPON; ROBBE...</td>\n",
       "    </tr>\n",
       "    <tr>\n",
       "      <th>1</th>\n",
       "      <td>2</td>\n",
       "      <td>[HOMICIDE, THEFT F/AUTO, THEFT/OTHER, MOTOR VE...</td>\n",
       "      <td>HOMICIDE; THEFT F/AUTO; THEFT/OTHER; MOTOR VEH...</td>\n",
       "    </tr>\n",
       "    <tr>\n",
       "      <th>2</th>\n",
       "      <td>3</td>\n",
       "      <td>[THEFT F/AUTO, THEFT/OTHER, MOTOR VEHICLE THEF...</td>\n",
       "      <td>THEFT F/AUTO; THEFT/OTHER; MOTOR VEHICLE THEFT...</td>\n",
       "    </tr>\n",
       "    <tr>\n",
       "      <th>3</th>\n",
       "      <td>4</td>\n",
       "      <td>[THEFT F/AUTO, THEFT/OTHER, HOMICIDE, MOTOR VE...</td>\n",
       "      <td>THEFT F/AUTO; THEFT/OTHER; HOMICIDE; MOTOR VEH...</td>\n",
       "    </tr>\n",
       "    <tr>\n",
       "      <th>4</th>\n",
       "      <td>5</td>\n",
       "      <td>[THEFT/OTHER, THEFT F/AUTO, MOTOR VEHICLE THEF...</td>\n",
       "      <td>THEFT/OTHER; THEFT F/AUTO; MOTOR VEHICLE THEFT...</td>\n",
       "    </tr>\n",
       "    <tr>\n",
       "      <th>5</th>\n",
       "      <td>6</td>\n",
       "      <td>[ROBBERY, THEFT/OTHER, THEFT F/AUTO, MOTOR VEH...</td>\n",
       "      <td>ROBBERY; THEFT/OTHER; THEFT F/AUTO; MOTOR VEHI...</td>\n",
       "    </tr>\n",
       "    <tr>\n",
       "      <th>6</th>\n",
       "      <td>7</td>\n",
       "      <td>[THEFT F/AUTO, ROBBERY, ASSAULT W/DANGEROUS WE...</td>\n",
       "      <td>THEFT F/AUTO; ROBBERY; ASSAULT W/DANGEROUS WEA...</td>\n",
       "    </tr>\n",
       "    <tr>\n",
       "      <th>7</th>\n",
       "      <td>8</td>\n",
       "      <td>[HOMICIDE, THEFT/OTHER, THEFT F/AUTO, MOTOR VE...</td>\n",
       "      <td>HOMICIDE; THEFT/OTHER; THEFT F/AUTO; MOTOR VEH...</td>\n",
       "    </tr>\n",
       "  </tbody>\n",
       "</table>\n",
       "</div>"
      ],
      "text/plain": [
       "   WARD                                            OFFENSE  \\\n",
       "0     1  [THEFT/OTHER, ASSAULT W/DANGEROUS WEAPON, ROBB...   \n",
       "1     2  [HOMICIDE, THEFT F/AUTO, THEFT/OTHER, MOTOR VE...   \n",
       "2     3  [THEFT F/AUTO, THEFT/OTHER, MOTOR VEHICLE THEF...   \n",
       "3     4  [THEFT F/AUTO, THEFT/OTHER, HOMICIDE, MOTOR VE...   \n",
       "4     5  [THEFT/OTHER, THEFT F/AUTO, MOTOR VEHICLE THEF...   \n",
       "5     6  [ROBBERY, THEFT/OTHER, THEFT F/AUTO, MOTOR VEH...   \n",
       "6     7  [THEFT F/AUTO, ROBBERY, ASSAULT W/DANGEROUS WE...   \n",
       "7     8  [HOMICIDE, THEFT/OTHER, THEFT F/AUTO, MOTOR VE...   \n",
       "\n",
       "                                    uniq_off_by_ward  \n",
       "0  THEFT/OTHER; ASSAULT W/DANGEROUS WEAPON; ROBBE...  \n",
       "1  HOMICIDE; THEFT F/AUTO; THEFT/OTHER; MOTOR VEH...  \n",
       "2  THEFT F/AUTO; THEFT/OTHER; MOTOR VEHICLE THEFT...  \n",
       "3  THEFT F/AUTO; THEFT/OTHER; HOMICIDE; MOTOR VEH...  \n",
       "4  THEFT/OTHER; THEFT F/AUTO; MOTOR VEHICLE THEFT...  \n",
       "5  ROBBERY; THEFT/OTHER; THEFT F/AUTO; MOTOR VEHI...  \n",
       "6  THEFT F/AUTO; ROBBERY; ASSAULT W/DANGEROUS WEA...  \n",
       "7  HOMICIDE; THEFT/OTHER; THEFT F/AUTO; MOTOR VEH...  "
      ]
     },
     "execution_count": 150,
     "metadata": {},
     "output_type": "execute_result"
    }
   ],
   "source": [
    "df1 = df.groupby(\"WARD\")[\"OFFENSE\"].unique()\n",
    "\n",
    "def count_fx(x):\n",
    "    return len(x)\n",
    "\n",
    "def join_text(x):\n",
    "    return \"; \".join(x)\n",
    "\n",
    "new_list = []\n",
    "for i, l in list( df1.items() ):\n",
    "    new_list.append( join_text(l))\n",
    "    \n",
    "df1.apply(count_fx)\n",
    "df2 = df1.reset_index()\n",
    "df2[\"uniq_off_by_ward\"] = new_list\n",
    "df2"
   ]
  },
  {
   "cell_type": "markdown",
   "metadata": {},
   "source": [
    "### Example of grouping by two variables \n",
    "\n",
    "**Task**: group by ward (`WARD`) and police shift (`SHIFT`) and find the offense that is most common in that ward and shift"
   ]
  },
  {
   "cell_type": "code",
   "execution_count": 153,
   "metadata": {},
   "outputs": [
    {
     "data": {
      "text/html": [
       "<div>\n",
       "<style scoped>\n",
       "    .dataframe tbody tr th:only-of-type {\n",
       "        vertical-align: middle;\n",
       "    }\n",
       "\n",
       "    .dataframe tbody tr th {\n",
       "        vertical-align: top;\n",
       "    }\n",
       "\n",
       "    .dataframe thead th {\n",
       "        text-align: right;\n",
       "    }\n",
       "</style>\n",
       "<table border=\"1\" class=\"dataframe\">\n",
       "  <thead>\n",
       "    <tr style=\"text-align: right;\">\n",
       "      <th></th>\n",
       "      <th>WARD</th>\n",
       "      <th>SHIFT</th>\n",
       "      <th>OFFENSE</th>\n",
       "    </tr>\n",
       "  </thead>\n",
       "  <tbody>\n",
       "    <tr>\n",
       "      <th>0</th>\n",
       "      <td>1</td>\n",
       "      <td>DAY</td>\n",
       "      <td>THEFT/OTHER</td>\n",
       "    </tr>\n",
       "    <tr>\n",
       "      <th>1</th>\n",
       "      <td>1</td>\n",
       "      <td>EVENING</td>\n",
       "      <td>THEFT/OTHER</td>\n",
       "    </tr>\n",
       "    <tr>\n",
       "      <th>2</th>\n",
       "      <td>1</td>\n",
       "      <td>MIDNIGHT</td>\n",
       "      <td>THEFT/OTHER</td>\n",
       "    </tr>\n",
       "    <tr>\n",
       "      <th>3</th>\n",
       "      <td>2</td>\n",
       "      <td>DAY</td>\n",
       "      <td>THEFT/OTHER</td>\n",
       "    </tr>\n",
       "    <tr>\n",
       "      <th>4</th>\n",
       "      <td>2</td>\n",
       "      <td>EVENING</td>\n",
       "      <td>THEFT/OTHER</td>\n",
       "    </tr>\n",
       "    <tr>\n",
       "      <th>5</th>\n",
       "      <td>2</td>\n",
       "      <td>MIDNIGHT</td>\n",
       "      <td>THEFT/OTHER</td>\n",
       "    </tr>\n",
       "    <tr>\n",
       "      <th>6</th>\n",
       "      <td>3</td>\n",
       "      <td>DAY</td>\n",
       "      <td>THEFT/OTHER</td>\n",
       "    </tr>\n",
       "    <tr>\n",
       "      <th>7</th>\n",
       "      <td>3</td>\n",
       "      <td>EVENING</td>\n",
       "      <td>THEFT/OTHER</td>\n",
       "    </tr>\n",
       "    <tr>\n",
       "      <th>8</th>\n",
       "      <td>3</td>\n",
       "      <td>MIDNIGHT</td>\n",
       "      <td>THEFT/OTHER</td>\n",
       "    </tr>\n",
       "    <tr>\n",
       "      <th>9</th>\n",
       "      <td>4</td>\n",
       "      <td>DAY</td>\n",
       "      <td>THEFT F/AUTO</td>\n",
       "    </tr>\n",
       "    <tr>\n",
       "      <th>10</th>\n",
       "      <td>4</td>\n",
       "      <td>EVENING</td>\n",
       "      <td>THEFT/OTHER</td>\n",
       "    </tr>\n",
       "    <tr>\n",
       "      <th>11</th>\n",
       "      <td>4</td>\n",
       "      <td>MIDNIGHT</td>\n",
       "      <td>THEFT/OTHER</td>\n",
       "    </tr>\n",
       "    <tr>\n",
       "      <th>12</th>\n",
       "      <td>5</td>\n",
       "      <td>DAY</td>\n",
       "      <td>THEFT F/AUTO</td>\n",
       "    </tr>\n",
       "    <tr>\n",
       "      <th>13</th>\n",
       "      <td>5</td>\n",
       "      <td>EVENING</td>\n",
       "      <td>THEFT/OTHER</td>\n",
       "    </tr>\n",
       "    <tr>\n",
       "      <th>14</th>\n",
       "      <td>5</td>\n",
       "      <td>MIDNIGHT</td>\n",
       "      <td>THEFT/OTHER</td>\n",
       "    </tr>\n",
       "    <tr>\n",
       "      <th>15</th>\n",
       "      <td>6</td>\n",
       "      <td>DAY</td>\n",
       "      <td>THEFT/OTHER</td>\n",
       "    </tr>\n",
       "    <tr>\n",
       "      <th>16</th>\n",
       "      <td>6</td>\n",
       "      <td>EVENING</td>\n",
       "      <td>THEFT/OTHER</td>\n",
       "    </tr>\n",
       "    <tr>\n",
       "      <th>17</th>\n",
       "      <td>6</td>\n",
       "      <td>MIDNIGHT</td>\n",
       "      <td>THEFT/OTHER</td>\n",
       "    </tr>\n",
       "    <tr>\n",
       "      <th>18</th>\n",
       "      <td>7</td>\n",
       "      <td>DAY</td>\n",
       "      <td>THEFT F/AUTO</td>\n",
       "    </tr>\n",
       "    <tr>\n",
       "      <th>19</th>\n",
       "      <td>7</td>\n",
       "      <td>EVENING</td>\n",
       "      <td>THEFT/OTHER</td>\n",
       "    </tr>\n",
       "    <tr>\n",
       "      <th>20</th>\n",
       "      <td>7</td>\n",
       "      <td>MIDNIGHT</td>\n",
       "      <td>THEFT/OTHER</td>\n",
       "    </tr>\n",
       "    <tr>\n",
       "      <th>21</th>\n",
       "      <td>8</td>\n",
       "      <td>DAY</td>\n",
       "      <td>THEFT F/AUTO</td>\n",
       "    </tr>\n",
       "    <tr>\n",
       "      <th>22</th>\n",
       "      <td>8</td>\n",
       "      <td>EVENING</td>\n",
       "      <td>THEFT/OTHER</td>\n",
       "    </tr>\n",
       "    <tr>\n",
       "      <th>23</th>\n",
       "      <td>8</td>\n",
       "      <td>MIDNIGHT</td>\n",
       "      <td>ASSAULT W/DANGEROUS WEAPON</td>\n",
       "    </tr>\n",
       "  </tbody>\n",
       "</table>\n",
       "</div>"
      ],
      "text/plain": [
       "    WARD     SHIFT                     OFFENSE\n",
       "0      1       DAY                 THEFT/OTHER\n",
       "1      1   EVENING                 THEFT/OTHER\n",
       "2      1  MIDNIGHT                 THEFT/OTHER\n",
       "3      2       DAY                 THEFT/OTHER\n",
       "4      2   EVENING                 THEFT/OTHER\n",
       "5      2  MIDNIGHT                 THEFT/OTHER\n",
       "6      3       DAY                 THEFT/OTHER\n",
       "7      3   EVENING                 THEFT/OTHER\n",
       "8      3  MIDNIGHT                 THEFT/OTHER\n",
       "9      4       DAY                THEFT F/AUTO\n",
       "10     4   EVENING                 THEFT/OTHER\n",
       "11     4  MIDNIGHT                 THEFT/OTHER\n",
       "12     5       DAY                THEFT F/AUTO\n",
       "13     5   EVENING                 THEFT/OTHER\n",
       "14     5  MIDNIGHT                 THEFT/OTHER\n",
       "15     6       DAY                 THEFT/OTHER\n",
       "16     6   EVENING                 THEFT/OTHER\n",
       "17     6  MIDNIGHT                 THEFT/OTHER\n",
       "18     7       DAY                THEFT F/AUTO\n",
       "19     7   EVENING                 THEFT/OTHER\n",
       "20     7  MIDNIGHT                 THEFT/OTHER\n",
       "21     8       DAY                THEFT F/AUTO\n",
       "22     8   EVENING                 THEFT/OTHER\n",
       "23     8  MIDNIGHT  ASSAULT W/DANGEROUS WEAPON"
      ]
     },
     "execution_count": 153,
     "metadata": {},
     "output_type": "execute_result"
    }
   ],
   "source": [
    "df.groupby([\"WARD\", \"SHIFT\"]).agg(\n",
    "    {\n",
    "        \"OFFENSE\": lambda x: x.mode()\n",
    "    }\n",
    ").reset_index()"
   ]
  },
  {
   "cell_type": "markdown",
   "metadata": {},
   "source": [
    "## Summarizing over all rows or all columns (without grouping)\n",
    "\n",
    "We can also use the `apply` function to summarize rows or columns efficiently"
   ]
  },
  {
   "cell_type": "markdown",
   "metadata": {},
   "source": [
    "**Task**: find the mean lat and longitude in one line of code"
   ]
  },
  {
   "cell_type": "code",
   "execution_count": 157,
   "metadata": {},
   "outputs": [
    {
     "data": {
      "text/plain": [
       "X   -77.007049\n",
       "Y    38.907618\n",
       "dtype: float64"
      ]
     },
     "execution_count": 157,
     "metadata": {},
     "output_type": "execute_result"
    }
   ],
   "source": [
    "df[[\"X\",\"Y\"]].apply(np.mean, axis=0)"
   ]
  },
  {
   "cell_type": "markdown",
   "metadata": {},
   "source": [
    "## 2. Creating new columns/transforming their type "
   ]
  },
  {
   "cell_type": "markdown",
   "metadata": {},
   "source": [
    "### Simple filtering\n",
    "\n",
    "`np.where` is in the numpy package (aliased as `np`) and operates similar to `ifelse` in R\n",
    "\n",
    "But there is a built in pandas way to emulate this.\n",
    "\n",
    "**Task**: create an indicator `is_theft` for any offense that contains the word \"THEFT\"\n",
    "    \n",
    "**Task**: create an indicator `is_theft_notmotor` for any offense that contains the word \"THEFT\" but does not contain the word \"MOTOR\""
   ]
  },
  {
   "cell_type": "code",
   "execution_count": 221,
   "metadata": {},
   "outputs": [
    {
     "name": "stdout",
     "output_type": "stream",
     "text": [
      "0        False\n",
      "1         True\n",
      "2        False\n",
      "3        False\n",
      "4        False\n",
      "         ...  \n",
      "27926     True\n",
      "27927     True\n",
      "27928     True\n",
      "27929     True\n",
      "27930     True\n",
      "Name: is_theft, Length: 27931, dtype: bool\n"
     ]
    }
   ],
   "source": [
    "df[\"is_theft\"] = df.OFFENSE.str.contains(\"THEFT\")\n",
    "print(df.is_theft)\n",
    "\n",
    "df[\"is_theft_notmotor\"] = df.OFFENSE.str.contains(\"THEFT\") & ~df.OFFENSE.str.contains(\"MOTOR\")"
   ]
  },
  {
   "cell_type": "markdown",
   "metadata": {},
   "source": [
    "### np.select\n",
    "\n",
    "**Task**: create a new variable, `offense_summary`, where you:\n",
    "        \n",
    "- Recode theft offenses that use a gun or knife as the method (`METHOD`) as: violent theft\n",
    "- Recode non-theft offenses that use a gun or knife as the method as: violent other\n",
    "- Recode all other as non-violent "
   ]
  },
  {
   "cell_type": "code",
   "execution_count": 227,
   "metadata": {},
   "outputs": [
    {
     "data": {
      "text/plain": [
       "0      non-violent\n",
       "1      non-violent\n",
       "2    violent_other\n",
       "3      non-violent\n",
       "4      non-violent\n",
       "Name: offense_summary, dtype: object"
      ]
     },
     "execution_count": 227,
     "metadata": {},
     "output_type": "execute_result"
    },
    {
     "data": {
      "text/plain": [
       "offense_summary\n",
       "non-violent      25256\n",
       "violent_other     2640\n",
       "violent_theft       35\n",
       "Name: count, dtype: int64"
      ]
     },
     "execution_count": 227,
     "metadata": {},
     "output_type": "execute_result"
    }
   ],
   "source": [
    "method = [\"violent_theft\", \"violent_other\"]\n",
    "\n",
    "conditions = [df.METHOD.isin([\"GUN\", \"KNIFE\"]) & df.OFFENSE.str.contains(\"THEFT\"),\n",
    "              df.METHOD.isin([\"GUN\", \"KNIFE\"]) & ~df.OFFENSE.str.contains(\"THEFT\")\n",
    "             ]\n",
    "\n",
    "df[\"offense_summary\"] = np.select(conditions, method, default = \"non-violent\")\n",
    "df.offense_summary.head()\n",
    "\n",
    "df[\"offense_summary\"].value_counts()"
   ]
  },
  {
   "cell_type": "code",
   "execution_count": 119,
   "metadata": {},
   "outputs": [
    {
     "data": {
      "text/plain": [
       "0    OTHERS\n",
       "1    OTHERS\n",
       "2       GUN\n",
       "3    OTHERS\n",
       "4    OTHERS\n",
       "Name: METHOD, dtype: object"
      ]
     },
     "execution_count": 119,
     "metadata": {},
     "output_type": "execute_result"
    }
   ],
   "source": [
    "df.METHOD.head()"
   ]
  },
  {
   "cell_type": "markdown",
   "metadata": {},
   "source": [
    "### map.recode\n",
    "\n",
    "**Task**: recode shifts that are MIDNIGHT or EVENING as \"nighttime\"; code other shift to daytime"
   ]
  },
  {
   "cell_type": "code",
   "execution_count": 163,
   "metadata": {},
   "outputs": [
    {
     "data": {
      "text/plain": [
       "0        MIDNIGHT\n",
       "1         EVENING\n",
       "2        MIDNIGHT\n",
       "3        MIDNIGHT\n",
       "4        MIDNIGHT\n",
       "           ...   \n",
       "27926    MIDNIGHT\n",
       "27927         DAY\n",
       "27928         DAY\n",
       "27929     EVENING\n",
       "27930     EVENING\n",
       "Name: SHIFT, Length: 27931, dtype: object"
      ]
     },
     "execution_count": 163,
     "metadata": {},
     "output_type": "execute_result"
    }
   ],
   "source": [
    "df.SHIFT"
   ]
  },
  {
   "cell_type": "code",
   "execution_count": 167,
   "metadata": {},
   "outputs": [
    {
     "data": {
      "text/plain": [
       "0        nighttime\n",
       "1        nighttime\n",
       "2        nighttime\n",
       "3        nighttime\n",
       "4        nighttime\n",
       "           ...    \n",
       "27926    nighttime\n",
       "27927      daytime\n",
       "27928      daytime\n",
       "27929    nighttime\n",
       "27930    nighttime\n",
       "Name: NEW_SHIFT, Length: 27931, dtype: object"
      ]
     },
     "execution_count": 167,
     "metadata": {},
     "output_type": "execute_result"
    }
   ],
   "source": [
    "time = [\"DAY\", \"EVENING\", \"MIDNIGHT\"]\n",
    "\n",
    "new = [\"daytime\", \"nighttime\", \"nighttime\"]\n",
    "\n",
    "conversion_dict = dict(zip(time, new))\n",
    "\n",
    "df[\"NEW_SHIFT\"] = df.SHIFT.map(conversion_dict)\n",
    "\n",
    "df.NEW_SHIFT\n",
    "\n",
    "# df.SHIFT.apply(lambda x: conversion_dict[x])"
   ]
  },
  {
   "cell_type": "markdown",
   "metadata": {},
   "source": [
    "### Using built-in pandas methods\n",
    "\n",
    "Another way of creating variables, used either alone or in combination with np.where and np.select is to use pandas built in `str` methods\n",
    "\n",
    "Basic structure is: `df['namestringcol'].str.someoperation`"
   ]
  },
  {
   "cell_type": "markdown",
   "metadata": {},
   "source": [
    "**Task**: using a `str` method, create a new variable--`OFFENSE_NOSP`--that replaces spaces in the `OFFENSE` column with underscores"
   ]
  },
  {
   "cell_type": "code",
   "execution_count": 173,
   "metadata": {},
   "outputs": [
    {
     "data": {
      "text/plain": [
       "0        HOMICIDE\n",
       "1    THEFT_F/AUTO\n",
       "2        HOMICIDE\n",
       "3        HOMICIDE\n",
       "4        HOMICIDE\n",
       "Name: OFFENSE_NOSP, dtype: object"
      ]
     },
     "execution_count": 173,
     "metadata": {},
     "output_type": "execute_result"
    },
    {
     "data": {
      "text/plain": [
       "0        HOMICIDE\n",
       "1    THEFT F/AUTO\n",
       "2        HOMICIDE\n",
       "3        HOMICIDE\n",
       "4        HOMICIDE\n",
       "Name: OFFENSE, dtype: object"
      ]
     },
     "execution_count": 173,
     "metadata": {},
     "output_type": "execute_result"
    }
   ],
   "source": [
    "df[\"OFFENSE_NOSP\"] = df[\"OFFENSE\"].str.replace(\" \", \"_\")\n",
    "\n",
    "df.OFFENSE_NOSP.head()\n",
    "df.OFFENSE.head()"
   ]
  },
  {
   "cell_type": "markdown",
   "metadata": {},
   "source": [
    "### Transforming column types\n",
    "\n",
    "**Task**: check the type of the `START_DATE` column"
   ]
  },
  {
   "cell_type": "code",
   "execution_count": 181,
   "metadata": {},
   "outputs": [
    {
     "name": "stdout",
     "output_type": "stream",
     "text": [
      "object\n"
     ]
    }
   ],
   "source": [
    "print(df[\"START_DATE\"].dtype)"
   ]
  },
  {
   "cell_type": "markdown",
   "metadata": {},
   "source": [
    "**Task**: recast the `START_DATE` column to datetime, calling this `START_DATE_CLEAN`; coerce errors rather than cleaning the string; check the type of that new col"
   ]
  },
  {
   "cell_type": "code",
   "execution_count": 185,
   "metadata": {},
   "outputs": [
    {
     "name": "stdout",
     "output_type": "stream",
     "text": [
      "datetime64[ns, UTC]\n"
     ]
    }
   ],
   "source": [
    "df[\"START_DATE_CLEAN\"] = pd.to_datetime(df[\"START_DATE\"], errors='coerce')\n",
    "\n",
    "print(df[\"START_DATE_CLEAN\"].dtype)"
   ]
  },
  {
   "cell_type": "markdown",
   "metadata": {},
   "source": [
    "**Task:** print the min and max of `START_DATE_CLEAN`. What happens if you try to do this with `START_DATE`?"
   ]
  },
  {
   "cell_type": "code",
   "execution_count": 193,
   "metadata": {},
   "outputs": [
    {
     "name": "stdout",
     "output_type": "stream",
     "text": [
      "1940-02-17 00:00:16+00:00\n",
      "2021-01-01 02:30:21+00:00\n",
      "1940/02/17 00:00:16+00\n",
      "2021/01/01 02:30:21+00\n"
     ]
    }
   ],
   "source": [
    "print(df[\"START_DATE_CLEAN\"].min())\n",
    "print(df[\"START_DATE_CLEAN\"].max())\n",
    "print(df[\"START_DATE\"].min())\n",
    "print(df[\"START_DATE\"].max())"
   ]
  },
  {
   "cell_type": "markdown",
   "metadata": {},
   "source": [
    "## 3. Row and column filtering "
   ]
  },
  {
   "cell_type": "markdown",
   "metadata": {},
   "source": [
    "### Row subsetting\n",
    "\n",
    "**Task**: filter to crime reports about theft using the `is_theft` definition and that are in ward 3"
   ]
  },
  {
   "cell_type": "code",
   "execution_count": 203,
   "metadata": {},
   "outputs": [
    {
     "name": "stdout",
     "output_type": "stream",
     "text": [
      "       WARD  is_theft\n",
      "8         3      True\n",
      "12        3      True\n",
      "13        3      True\n",
      "22        3      True\n",
      "39        3      True\n",
      "...     ...       ...\n",
      "27801     3      True\n",
      "27828     3      True\n",
      "27907     3      True\n",
      "27909     3      True\n",
      "27914     3      True\n",
      "\n",
      "[1522 rows x 2 columns]\n"
     ]
    }
   ],
   "source": [
    "filtered_df = df[(df[\"is_theft\"]) & (df['WARD'] == 3)]\n",
    "\n",
    "print(filtered_df[[\"WARD\", \"is_theft\"]])\n",
    "\n"
   ]
  },
  {
   "cell_type": "code",
   "execution_count": null,
   "metadata": {},
   "outputs": [],
   "source": []
  },
  {
   "cell_type": "markdown",
   "metadata": {},
   "source": [
    "### Column subsetting\n"
   ]
  },
  {
   "cell_type": "markdown",
   "metadata": {},
   "source": [
    "**Task**: select two columns--`START_DATE` and `END_DATE`--and print the head of the dataframe"
   ]
  },
  {
   "cell_type": "code",
   "execution_count": 205,
   "metadata": {},
   "outputs": [
    {
     "name": "stdout",
     "output_type": "stream",
     "text": [
      "               START_DATE                END_DATE\n",
      "0  2011/09/23 06:40:00+00                     NaN\n",
      "1  2020/01/11 02:48:51+00  2020/01/17 02:48:54+00\n",
      "2  2010/09/02 04:00:00+00  2010/09/02 04:00:00+00\n",
      "3  2010/10/10 02:00:00+00                     NaN\n",
      "4  2018/03/26 08:40:06+00  2018/03/26 10:04:44+00\n"
     ]
    }
   ],
   "source": [
    "df_select = df[[\"START_DATE\", \"END_DATE\"]]\n",
    "\n",
    "print(df_select.head())\n",
    "\n"
   ]
  },
  {
   "cell_type": "markdown",
   "metadata": {},
   "source": [
    "**Task**: use list comprehension to automate this a bit and select all columns with the word \"DATE\" in the name; print the head of the dataframe"
   ]
  },
  {
   "cell_type": "code",
   "execution_count": 207,
   "metadata": {},
   "outputs": [
    {
     "name": "stdout",
     "output_type": "stream",
     "text": [
      "               START_DATE                END_DATE          START_DATE_CLEAN\n",
      "0  2011/09/23 06:40:00+00                     NaN 2011-09-23 06:40:00+00:00\n",
      "1  2020/01/11 02:48:51+00  2020/01/17 02:48:54+00 2020-01-11 02:48:51+00:00\n",
      "2  2010/09/02 04:00:00+00  2010/09/02 04:00:00+00 2010-09-02 04:00:00+00:00\n",
      "3  2010/10/10 02:00:00+00                     NaN 2010-10-10 02:00:00+00:00\n",
      "4  2018/03/26 08:40:06+00  2018/03/26 10:04:44+00 2018-03-26 08:40:06+00:00\n"
     ]
    }
   ],
   "source": [
    "date_columns = [c for c in df.columns if \"DATE\" in c]\n",
    "\n",
    "print(df[date_columns].head())\n",
    "\n"
   ]
  },
  {
   "cell_type": "markdown",
   "metadata": {},
   "source": [
    "**Task**: filter reports of crime in `START_DATE_CLEAN` before May 2020 and that are located in ward 1; select the ward and `START_DATE` column and print a random sample of rows"
   ]
  },
  {
   "cell_type": "code",
   "execution_count": 211,
   "metadata": {},
   "outputs": [
    {
     "name": "stdout",
     "output_type": "stream",
     "text": [
      "                START_DATE  WARD\n",
      "9   2020/01/03 04:20:19+00     1\n",
      "16  2020/01/08 20:44:58+00     1\n",
      "25  2020/02/21 17:15:39+00     1\n",
      "60  2020/01/28 15:23:51+00     1\n",
      "80  2020/02/18 23:09:54+00     1\n"
     ]
    }
   ],
   "source": [
    "df_tech = (df[\"START_DATE_CLEAN\"] < \"2020-05-01\") & (df[\"WARD\"] == 1)\n",
    "\n",
    "row_select = df[[\"START_DATE\", \"WARD\"]]\n",
    "\n",
    "\n",
    "print(row_select[df_tech].head())\n"
   ]
  }
 ],
 "metadata": {
  "kernelspec": {
   "display_name": "Python 3 (ipykernel)",
   "language": "python",
   "name": "python3"
  },
  "language_info": {
   "codemirror_mode": {
    "name": "ipython",
    "version": 3
   },
   "file_extension": ".py",
   "mimetype": "text/x-python",
   "name": "python",
   "nbconvert_exporter": "python",
   "pygments_lexer": "ipython3",
   "version": "3.12.4"
  }
 },
 "nbformat": 4,
 "nbformat_minor": 4
}
